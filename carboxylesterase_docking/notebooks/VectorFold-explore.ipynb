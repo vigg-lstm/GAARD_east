{
 "cells": [
  {
   "cell_type": "code",
   "execution_count": 53,
   "id": "6591ceb4-8204-4590-8da1-b81a8a3b43c6",
   "metadata": {},
   "outputs": [],
   "source": [
    "import py3Dmol\n",
    "import pandas as pd\n",
    "import numpy as np\n",
    "import plotly.express as px\n",
    "import requests\n",
    "import os\n",
    "import re\n",
    "import glob\n",
    "import time\n",
    "\n",
    "def view_pymol(receptor, ligand, docked, receptor_highlight=None, sticks=False):\n",
    "  v = py3Dmol.view()\n",
    "  v.addModel(open(receptor).read())\n",
    "  if sticks:\n",
    "    v.setStyle({'cartoon':{},'stick':{'radius':.1}})\n",
    "  else:\n",
    "    v.setStyle({'cartoon':{}})\n",
    "  if receptor_highlight:\n",
    "    for i in range(receptor_highlight-3, receptor_highlight+3):\n",
    "      v.setStyle({'model': -1, 'serial': i}, {\"cartoon\": {'color': 'yellow'}, 'stick':{'radius':.3, 'color':'yellow'}})\n",
    "  v.addModel(open(ligand).read())\n",
    "  v.setStyle({'model':1},{'stick':{'colorscheme':'dimgrayCarbon','radius':.125}})\n",
    "  v.addModelsAsFrames(open(docked).read())\n",
    "  v.setStyle({'model':2},{'stick':{'colorscheme':'greenCarbon'}})\n",
    "  v.zoomTo({'model':1})\n",
    "  v.rotate(90)\n",
    "  v.animate({'interval':5000})\n",
    "  return v\n",
    "\n",
    "from rdkit import Chem\n",
    "from rdkit.Chem import AllChem\n",
    "import numpy as np\n",
    "from Bio.PDB import PDBParser, NeighborSearch\n",
    "\n",
    "def find_ester_bond(mol):\n",
    "    for bond in mol.GetBonds():\n",
    "        atom1, atom2 = bond.GetBeginAtom(), bond.GetEndAtom()\n",
    "        # Check if the bond is between carbon and oxygen\n",
    "        if (atom1.GetAtomicNum() == 6 and atom2.GetAtomicNum() == 8) or \\\n",
    "           (atom2.GetAtomicNum() == 6 and atom1.GetAtomicNum() == 8):\n",
    "            # Identify which atom is carbon and which is oxygen\n",
    "            c_atom = atom1 if atom1.GetAtomicNum() == 6 else atom2\n",
    "            o_atom = atom2 if atom1.GetAtomicNum() == 6 else atom1\n",
    "            \n",
    "            # Check if the carbon is connected to another oxygen (double-bonded)\n",
    "            for neighbor in c_atom.GetNeighbors():\n",
    "                if neighbor.GetAtomicNum() == 8 and neighbor.GetIdx() != o_atom.GetIdx():\n",
    "                    return bond\n",
    "    return None\n",
    "\n",
    "def is_part_of_cyclopropane(atom):\n",
    "    ring_info = atom.GetOwningMol().GetRingInfo()\n",
    "    for ring in ring_info.AtomRings():\n",
    "        if atom.GetIdx() in ring and len(ring) == 3:\n",
    "            return True\n",
    "    return False\n",
    "\n",
    "def calculate_distances(protein_file, ligand_file, residue_number, atom_name):\n",
    "    # Load the protein structure\n",
    "    parser = PDBParser()\n",
    "    structure = parser.get_structure(\"protein\", protein_file)\n",
    "    \n",
    "    # Find the specific atom in the protein\n",
    "    target_atom = None\n",
    "    for model in structure:\n",
    "        for chain in model:\n",
    "            for residue in chain:\n",
    "                if residue.id[1] == residue_number:\n",
    "                    for atom in residue:\n",
    "                        if atom.name == atom_name:\n",
    "                            target_atom = atom\n",
    "                            break\n",
    "    \n",
    "    if target_atom is None:\n",
    "        raise ValueError(f\"Atom {atom_name} not found in residue {residue_number}\")\n",
    "    \n",
    "    # Load the ligand with all conformations\n",
    "    suppl = Chem.SDMolSupplier(ligand_file, removeHs=False)\n",
    "    \n",
    "    distances = []\n",
    "    for mol in suppl:\n",
    "        if mol is None:\n",
    "            distances.append(None)\n",
    "            continue\n",
    "        \n",
    "        # Find the ester bond in the ligand\n",
    "        ester_bond = find_ester_bond(mol)\n",
    "        \n",
    "        if ester_bond is None:\n",
    "            distances.append(None)\n",
    "            continue\n",
    "        \n",
    "        # Calculate the midpoint of the ester bond\n",
    "        conf = mol.GetConformer()\n",
    "        pos1 = conf.GetAtomPosition(ester_bond.GetBeginAtomIdx())\n",
    "        pos2 = conf.GetAtomPosition(ester_bond.GetEndAtomIdx())\n",
    "        midpoint = ((pos1.x + pos2.x) / 2, (pos1.y + pos2.y) / 2, (pos1.z + pos2.z) / 2)\n",
    "        \n",
    "        # Calculate distance\n",
    "        distance = np.linalg.norm(target_atom.coord - midpoint)\n",
    "        distances.append(distance)\n",
    "    \n",
    "    return distances\n",
    "\n",
    "def load_docking_results(protein_file, ligand_file, gnina_log_file, residue_number, atom_name):\n",
    "    # Calculate distances\n",
    "    distances = calculate_distances(protein_file, ligand_file, residue_number, atom_name)\n",
    "\n",
    "    # Read gnina log file\n",
    "    with open(gnina_log_file, 'r') as f:\n",
    "        log_content = f.read()\n",
    "    \n",
    "    # Extract docking results\n",
    "    pattern = r\"^\\s*(\\d+)\\s+([-\\d.]+)\\s+([-\\d.]+)\\s+([-\\d.]+)\\s+([-\\d.]+)\\s*$\"\n",
    "    docking_results = re.findall(pattern, log_content, re.MULTILINE)\n",
    "    \n",
    "    # Create DataFrame\n",
    "    df = pd.DataFrame(docking_results, columns=['Mode', 'Affinity', 'Intramol', 'CNN_score', 'CNN_affinity'])\n",
    "    df = df.astype({'Mode': int, 'Affinity': float, 'Intramol': float, 'CNN_score': float, 'CNN_affinity': float})\n",
    "    \n",
    "    # Add distances\n",
    "    df['Distance'] = pd.Series(distances)\n",
    "    \n",
    "    # Reorder columns\n",
    "    df = df[['Mode', 'Affinity', 'Intramol', 'CNN_score', 'CNN_affinity', 'Distance']]\n",
    "    \n",
    "    return df"
   ]
  },
  {
   "cell_type": "code",
   "execution_count": 171,
   "id": "ac99cacb-2c25-4702-910d-e75d04df4c58",
   "metadata": {},
   "outputs": [
    {
     "data": {
      "application/vnd.plotly.v1+json": {
       "config": {
        "plotlyServerURL": "https://plot.ly"
       },
       "data": [
        {
         "hovertemplate": "x=%{x}<br>y=%{y}<extra></extra>",
         "legendgroup": "",
         "line": {
          "color": "black",
          "dash": "solid",
          "width": 0.5
         },
         "marker": {
          "size": 15,
          "symbol": "circle"
         },
         "mode": "lines",
         "name": "",
         "orientation": "v",
         "showlegend": false,
         "type": "scatter",
         "x": [
          1,
          1,
          2,
          2,
          null,
          5,
          5,
          6,
          6,
          null,
          7,
          7,
          8,
          8,
          null,
          5.5,
          5.5,
          7.5,
          7.5,
          null,
          4,
          4,
          6.5,
          6.5,
          null,
          3,
          3,
          5.25,
          5.25,
          null,
          1.5,
          1.5,
          4.125,
          4.125,
          null,
          0,
          0,
          2.8125,
          2.8125,
          null
         ],
         "xaxis": "x",
         "y": [
          0,
          4.330052441120909,
          4.330052441120909,
          0,
          null,
          0,
          1.1657414609793002,
          1.1657414609793002,
          0,
          null,
          0,
          3.5194061234160605,
          3.5194061234160605,
          0,
          null,
          1.1657414609793002,
          4.288674593534787,
          4.288674593534787,
          3.5194061234160605,
          null,
          0,
          5.436240894112726,
          5.436240894112726,
          4.288674593534787,
          null,
          0,
          6.254051703166703,
          6.254051703166703,
          5.436240894112726,
          null,
          4.330052441120909,
          12.333154578498677,
          12.333154578498677,
          6.254051703166703,
          null,
          0,
          23.842681947058125,
          23.842681947058125,
          12.333154578498677,
          null
         ],
         "yaxis": "y"
        },
        {
         "customdata": [
          [
           7,
           17.11,
           16.51,
           0.2573,
           4.063,
           null
          ],
          [
           5,
           -5.06,
           12.41,
           0.261,
           4.109,
           null
          ],
          [
           6,
           -5.65,
           13.12,
           0.2596,
           4.109,
           null
          ],
          [
           9,
           -0.38,
           14.5,
           0.2328,
           3.467,
           null
          ],
          [
           1,
           8.08,
           13.11,
           0.4328,
           4.223,
           null
          ],
          [
           3,
           -2.36,
           12.08,
           0.2709,
           3.559,
           null
          ],
          [
           4,
           -5.5,
           12.44,
           0.2656,
           3.547,
           null
          ],
          [
           2,
           2.01,
           12.58,
           0.3798,
           4.008,
           null
          ],
          [
           8,
           -4.62,
           13.67,
           0.248,
           3.731,
           null
          ]
         ],
         "hovertemplate": "<b>%{hovertext}</b><br><br>x=%{x}<br>y=%{y}<br>Mode=%{customdata[0]}<br>Affinity=%{customdata[1]}<br>Intramol=%{customdata[2]}<br>CNN_score=%{marker.color}<br>CNN_affinity=%{customdata[4]}<br>Distance=%{customdata[5]}<extra></extra>",
         "hovertext": [
          7,
          5,
          6,
          9,
          1,
          3,
          4,
          2,
          8
         ],
         "legendgroup": "",
         "line": {
          "color": "black",
          "width": 0.5
         },
         "marker": {
          "color": [
           0.2573,
           0.261,
           0.2596,
           0.2328,
           0.4328,
           0.2709,
           0.2656,
           0.3798,
           0.248
          ],
          "coloraxis": "coloraxis",
          "size": 15,
          "symbol": "circle"
         },
         "mode": "markers",
         "name": "",
         "orientation": "v",
         "showlegend": false,
         "type": "scatter",
         "x": [
          0,
          1,
          2,
          3,
          4,
          5,
          6,
          7,
          8
         ],
         "xaxis": "x",
         "y": [
          0,
          0,
          0,
          0,
          0,
          0,
          0,
          0,
          0
         ],
         "yaxis": "y"
        },
        {
         "colorscale": [
          [
           0,
           "#440154"
          ],
          [
           0.1111111111111111,
           "#482878"
          ],
          [
           0.2222222222222222,
           "#3e4989"
          ],
          [
           0.3333333333333333,
           "#31688e"
          ],
          [
           0.4444444444444444,
           "#26828e"
          ],
          [
           0.5555555555555556,
           "#1f9e89"
          ],
          [
           0.6666666666666666,
           "#35b779"
          ],
          [
           0.7777777777777778,
           "#6ece58"
          ],
          [
           0.8888888888888888,
           "#b5de2b"
          ],
          [
           1,
           "#fde725"
          ]
         ],
         "showscale": false,
         "type": "heatmap",
         "x": [
          0,
          1,
          2,
          3,
          4,
          5,
          6,
          7,
          8
         ],
         "xaxis": "x2",
         "y": [
          0,
          1,
          2,
          3,
          4,
          5,
          6,
          7,
          8
         ],
         "yaxis": "y2",
         "z": [
          [
           0,
           23.842681947058125,
           22.734803505583685,
           23.658365583076527,
           18.643900700586595,
           19.833878688903837,
           21.351383417318264,
           18.970412545694575,
           20.4467967448449
          ],
          [
           23.842681947058125,
           0,
           4.330052441120909,
           9.439145856485109,
           12.333154578498677,
           9.835930437504556,
           9.311383800795362,
           7.474072058982114,
           5.239074332087956
          ],
          [
           22.734803505583685,
           4.330052441120909,
           0,
           8.63730029966926,
           9.315366697338455,
           6.654480341498096,
           6.320949231523695,
           6.89501533439473,
           6.1923850009507655
          ],
          [
           23.658365583076527,
           9.439145856485109,
           8.63730029966926,
           0,
           6.254051703166703,
           4.484768049135368,
           4.973991317342643,
           5.141597602797297,
           5.474468041128136
          ],
          [
           18.643900700586595,
           12.333154578498677,
           9.315366697338455,
           6.254051703166703,
           0,
           3.2080786605548957,
           4.5278253855711155,
           4.029334426810081,
           5.436240894112726
          ],
          [
           19.833878688903837,
           9.835930437504556,
           6.654480341498096,
           4.484768049135368,
           3.2080786605548957,
           0,
           1.1657414609793002,
           4.275445190731296,
           4.288674593534787
          ],
          [
           21.351383417318264,
           9.311383800795362,
           6.320949231523695,
           4.973991317342643,
           4.5278253855711155,
           1.1657414609793002,
           0,
           3.5367007550497163,
           4.22931393668051
          ],
          [
           18.970412545694575,
           7.474072058982114,
           6.89501533439473,
           5.141597602797297,
           4.029334426810081,
           4.275445190731296,
           3.5367007550497163,
           0,
           3.5194061234160605
          ],
          [
           20.4467967448449,
           5.239074332087956,
           6.1923850009507655,
           5.474468041128136,
           5.436240894112726,
           4.288674593534787,
           4.229313936680511,
           3.5194061234160605,
           0
          ]
         ]
        }
       ],
       "layout": {
        "height": 500,
        "hovermode": "closest",
        "plot_bgcolor": "white",
        "template": {
         "data": {
          "bar": [
           {
            "error_x": {
             "color": "#2a3f5f"
            },
            "error_y": {
             "color": "#2a3f5f"
            },
            "marker": {
             "line": {
              "color": "#E5ECF6",
              "width": 0.5
             },
             "pattern": {
              "fillmode": "overlay",
              "size": 10,
              "solidity": 0.2
             }
            },
            "type": "bar"
           }
          ],
          "barpolar": [
           {
            "marker": {
             "line": {
              "color": "#E5ECF6",
              "width": 0.5
             },
             "pattern": {
              "fillmode": "overlay",
              "size": 10,
              "solidity": 0.2
             }
            },
            "type": "barpolar"
           }
          ],
          "carpet": [
           {
            "aaxis": {
             "endlinecolor": "#2a3f5f",
             "gridcolor": "white",
             "linecolor": "white",
             "minorgridcolor": "white",
             "startlinecolor": "#2a3f5f"
            },
            "baxis": {
             "endlinecolor": "#2a3f5f",
             "gridcolor": "white",
             "linecolor": "white",
             "minorgridcolor": "white",
             "startlinecolor": "#2a3f5f"
            },
            "type": "carpet"
           }
          ],
          "choropleth": [
           {
            "colorbar": {
             "outlinewidth": 0,
             "ticks": ""
            },
            "type": "choropleth"
           }
          ],
          "contour": [
           {
            "colorbar": {
             "outlinewidth": 0,
             "ticks": ""
            },
            "colorscale": [
             [
              0,
              "#0d0887"
             ],
             [
              0.1111111111111111,
              "#46039f"
             ],
             [
              0.2222222222222222,
              "#7201a8"
             ],
             [
              0.3333333333333333,
              "#9c179e"
             ],
             [
              0.4444444444444444,
              "#bd3786"
             ],
             [
              0.5555555555555556,
              "#d8576b"
             ],
             [
              0.6666666666666666,
              "#ed7953"
             ],
             [
              0.7777777777777778,
              "#fb9f3a"
             ],
             [
              0.8888888888888888,
              "#fdca26"
             ],
             [
              1,
              "#f0f921"
             ]
            ],
            "type": "contour"
           }
          ],
          "contourcarpet": [
           {
            "colorbar": {
             "outlinewidth": 0,
             "ticks": ""
            },
            "type": "contourcarpet"
           }
          ],
          "heatmap": [
           {
            "colorbar": {
             "outlinewidth": 0,
             "ticks": ""
            },
            "colorscale": [
             [
              0,
              "#0d0887"
             ],
             [
              0.1111111111111111,
              "#46039f"
             ],
             [
              0.2222222222222222,
              "#7201a8"
             ],
             [
              0.3333333333333333,
              "#9c179e"
             ],
             [
              0.4444444444444444,
              "#bd3786"
             ],
             [
              0.5555555555555556,
              "#d8576b"
             ],
             [
              0.6666666666666666,
              "#ed7953"
             ],
             [
              0.7777777777777778,
              "#fb9f3a"
             ],
             [
              0.8888888888888888,
              "#fdca26"
             ],
             [
              1,
              "#f0f921"
             ]
            ],
            "type": "heatmap"
           }
          ],
          "heatmapgl": [
           {
            "colorbar": {
             "outlinewidth": 0,
             "ticks": ""
            },
            "colorscale": [
             [
              0,
              "#0d0887"
             ],
             [
              0.1111111111111111,
              "#46039f"
             ],
             [
              0.2222222222222222,
              "#7201a8"
             ],
             [
              0.3333333333333333,
              "#9c179e"
             ],
             [
              0.4444444444444444,
              "#bd3786"
             ],
             [
              0.5555555555555556,
              "#d8576b"
             ],
             [
              0.6666666666666666,
              "#ed7953"
             ],
             [
              0.7777777777777778,
              "#fb9f3a"
             ],
             [
              0.8888888888888888,
              "#fdca26"
             ],
             [
              1,
              "#f0f921"
             ]
            ],
            "type": "heatmapgl"
           }
          ],
          "histogram": [
           {
            "marker": {
             "pattern": {
              "fillmode": "overlay",
              "size": 10,
              "solidity": 0.2
             }
            },
            "type": "histogram"
           }
          ],
          "histogram2d": [
           {
            "colorbar": {
             "outlinewidth": 0,
             "ticks": ""
            },
            "colorscale": [
             [
              0,
              "#0d0887"
             ],
             [
              0.1111111111111111,
              "#46039f"
             ],
             [
              0.2222222222222222,
              "#7201a8"
             ],
             [
              0.3333333333333333,
              "#9c179e"
             ],
             [
              0.4444444444444444,
              "#bd3786"
             ],
             [
              0.5555555555555556,
              "#d8576b"
             ],
             [
              0.6666666666666666,
              "#ed7953"
             ],
             [
              0.7777777777777778,
              "#fb9f3a"
             ],
             [
              0.8888888888888888,
              "#fdca26"
             ],
             [
              1,
              "#f0f921"
             ]
            ],
            "type": "histogram2d"
           }
          ],
          "histogram2dcontour": [
           {
            "colorbar": {
             "outlinewidth": 0,
             "ticks": ""
            },
            "colorscale": [
             [
              0,
              "#0d0887"
             ],
             [
              0.1111111111111111,
              "#46039f"
             ],
             [
              0.2222222222222222,
              "#7201a8"
             ],
             [
              0.3333333333333333,
              "#9c179e"
             ],
             [
              0.4444444444444444,
              "#bd3786"
             ],
             [
              0.5555555555555556,
              "#d8576b"
             ],
             [
              0.6666666666666666,
              "#ed7953"
             ],
             [
              0.7777777777777778,
              "#fb9f3a"
             ],
             [
              0.8888888888888888,
              "#fdca26"
             ],
             [
              1,
              "#f0f921"
             ]
            ],
            "type": "histogram2dcontour"
           }
          ],
          "mesh3d": [
           {
            "colorbar": {
             "outlinewidth": 0,
             "ticks": ""
            },
            "type": "mesh3d"
           }
          ],
          "parcoords": [
           {
            "line": {
             "colorbar": {
              "outlinewidth": 0,
              "ticks": ""
             }
            },
            "type": "parcoords"
           }
          ],
          "pie": [
           {
            "automargin": true,
            "type": "pie"
           }
          ],
          "scatter": [
           {
            "fillpattern": {
             "fillmode": "overlay",
             "size": 10,
             "solidity": 0.2
            },
            "type": "scatter"
           }
          ],
          "scatter3d": [
           {
            "line": {
             "colorbar": {
              "outlinewidth": 0,
              "ticks": ""
             }
            },
            "marker": {
             "colorbar": {
              "outlinewidth": 0,
              "ticks": ""
             }
            },
            "type": "scatter3d"
           }
          ],
          "scattercarpet": [
           {
            "marker": {
             "colorbar": {
              "outlinewidth": 0,
              "ticks": ""
             }
            },
            "type": "scattercarpet"
           }
          ],
          "scattergeo": [
           {
            "marker": {
             "colorbar": {
              "outlinewidth": 0,
              "ticks": ""
             }
            },
            "type": "scattergeo"
           }
          ],
          "scattergl": [
           {
            "marker": {
             "colorbar": {
              "outlinewidth": 0,
              "ticks": ""
             }
            },
            "type": "scattergl"
           }
          ],
          "scattermapbox": [
           {
            "marker": {
             "colorbar": {
              "outlinewidth": 0,
              "ticks": ""
             }
            },
            "type": "scattermapbox"
           }
          ],
          "scatterpolar": [
           {
            "marker": {
             "colorbar": {
              "outlinewidth": 0,
              "ticks": ""
             }
            },
            "type": "scatterpolar"
           }
          ],
          "scatterpolargl": [
           {
            "marker": {
             "colorbar": {
              "outlinewidth": 0,
              "ticks": ""
             }
            },
            "type": "scatterpolargl"
           }
          ],
          "scatterternary": [
           {
            "marker": {
             "colorbar": {
              "outlinewidth": 0,
              "ticks": ""
             }
            },
            "type": "scatterternary"
           }
          ],
          "surface": [
           {
            "colorbar": {
             "outlinewidth": 0,
             "ticks": ""
            },
            "colorscale": [
             [
              0,
              "#0d0887"
             ],
             [
              0.1111111111111111,
              "#46039f"
             ],
             [
              0.2222222222222222,
              "#7201a8"
             ],
             [
              0.3333333333333333,
              "#9c179e"
             ],
             [
              0.4444444444444444,
              "#bd3786"
             ],
             [
              0.5555555555555556,
              "#d8576b"
             ],
             [
              0.6666666666666666,
              "#ed7953"
             ],
             [
              0.7777777777777778,
              "#fb9f3a"
             ],
             [
              0.8888888888888888,
              "#fdca26"
             ],
             [
              1,
              "#f0f921"
             ]
            ],
            "type": "surface"
           }
          ],
          "table": [
           {
            "cells": {
             "fill": {
              "color": "#EBF0F8"
             },
             "line": {
              "color": "white"
             }
            },
            "header": {
             "fill": {
              "color": "#C8D4E3"
             },
             "line": {
              "color": "white"
             }
            },
            "type": "table"
           }
          ]
         },
         "layout": {
          "annotationdefaults": {
           "arrowcolor": "#2a3f5f",
           "arrowhead": 0,
           "arrowwidth": 1
          },
          "autotypenumbers": "strict",
          "coloraxis": {
           "colorbar": {
            "outlinewidth": 0,
            "ticks": ""
           }
          },
          "colorscale": {
           "diverging": [
            [
             0,
             "#8e0152"
            ],
            [
             0.1,
             "#c51b7d"
            ],
            [
             0.2,
             "#de77ae"
            ],
            [
             0.3,
             "#f1b6da"
            ],
            [
             0.4,
             "#fde0ef"
            ],
            [
             0.5,
             "#f7f7f7"
            ],
            [
             0.6,
             "#e6f5d0"
            ],
            [
             0.7,
             "#b8e186"
            ],
            [
             0.8,
             "#7fbc41"
            ],
            [
             0.9,
             "#4d9221"
            ],
            [
             1,
             "#276419"
            ]
           ],
           "sequential": [
            [
             0,
             "#0d0887"
            ],
            [
             0.1111111111111111,
             "#46039f"
            ],
            [
             0.2222222222222222,
             "#7201a8"
            ],
            [
             0.3333333333333333,
             "#9c179e"
            ],
            [
             0.4444444444444444,
             "#bd3786"
            ],
            [
             0.5555555555555556,
             "#d8576b"
            ],
            [
             0.6666666666666666,
             "#ed7953"
            ],
            [
             0.7777777777777778,
             "#fb9f3a"
            ],
            [
             0.8888888888888888,
             "#fdca26"
            ],
            [
             1,
             "#f0f921"
            ]
           ],
           "sequentialminus": [
            [
             0,
             "#0d0887"
            ],
            [
             0.1111111111111111,
             "#46039f"
            ],
            [
             0.2222222222222222,
             "#7201a8"
            ],
            [
             0.3333333333333333,
             "#9c179e"
            ],
            [
             0.4444444444444444,
             "#bd3786"
            ],
            [
             0.5555555555555556,
             "#d8576b"
            ],
            [
             0.6666666666666666,
             "#ed7953"
            ],
            [
             0.7777777777777778,
             "#fb9f3a"
            ],
            [
             0.8888888888888888,
             "#fdca26"
            ],
            [
             1,
             "#f0f921"
            ]
           ]
          },
          "colorway": [
           "#636efa",
           "#EF553B",
           "#00cc96",
           "#ab63fa",
           "#FFA15A",
           "#19d3f3",
           "#FF6692",
           "#B6E880",
           "#FF97FF",
           "#FECB52"
          ],
          "font": {
           "color": "#2a3f5f"
          },
          "geo": {
           "bgcolor": "white",
           "lakecolor": "white",
           "landcolor": "#E5ECF6",
           "showlakes": true,
           "showland": true,
           "subunitcolor": "white"
          },
          "hoverlabel": {
           "align": "left"
          },
          "hovermode": "closest",
          "mapbox": {
           "style": "light"
          },
          "paper_bgcolor": "white",
          "plot_bgcolor": "#E5ECF6",
          "polar": {
           "angularaxis": {
            "gridcolor": "white",
            "linecolor": "white",
            "ticks": ""
           },
           "bgcolor": "#E5ECF6",
           "radialaxis": {
            "gridcolor": "white",
            "linecolor": "white",
            "ticks": ""
           }
          },
          "scene": {
           "xaxis": {
            "backgroundcolor": "#E5ECF6",
            "gridcolor": "white",
            "gridwidth": 2,
            "linecolor": "white",
            "showbackground": true,
            "ticks": "",
            "zerolinecolor": "white"
           },
           "yaxis": {
            "backgroundcolor": "#E5ECF6",
            "gridcolor": "white",
            "gridwidth": 2,
            "linecolor": "white",
            "showbackground": true,
            "ticks": "",
            "zerolinecolor": "white"
           },
           "zaxis": {
            "backgroundcolor": "#E5ECF6",
            "gridcolor": "white",
            "gridwidth": 2,
            "linecolor": "white",
            "showbackground": true,
            "ticks": "",
            "zerolinecolor": "white"
           }
          },
          "shapedefaults": {
           "line": {
            "color": "#2a3f5f"
           }
          },
          "ternary": {
           "aaxis": {
            "gridcolor": "white",
            "linecolor": "white",
            "ticks": ""
           },
           "baxis": {
            "gridcolor": "white",
            "linecolor": "white",
            "ticks": ""
           },
           "bgcolor": "#E5ECF6",
           "caxis": {
            "gridcolor": "white",
            "linecolor": "white",
            "ticks": ""
           }
          },
          "title": {
           "x": 0.05
          },
          "xaxis": {
           "automargin": true,
           "gridcolor": "white",
           "linecolor": "white",
           "ticks": "",
           "title": {
            "standoff": 15
           },
           "zerolinecolor": "white",
           "zerolinewidth": 2
          },
          "yaxis": {
           "automargin": true,
           "gridcolor": "white",
           "linecolor": "white",
           "ticks": "",
           "title": {
            "standoff": 15
           },
           "zerolinecolor": "white",
           "zerolinewidth": 2
          }
         }
        },
        "width": 1000,
        "xaxis": {
         "anchor": "y",
         "autorange": true,
         "domain": [
          0,
          1
         ],
         "matches": "x2",
         "range": [
          -0.5605965572513765,
          8.560596557251376
         ],
         "showticklabels": false,
         "type": "linear",
         "visible": false
        },
        "xaxis2": {
         "anchor": "y2",
         "autorange": true,
         "domain": [
          0,
          1
         ],
         "range": [
          -0.5605965572513765,
          8.560596557251376
         ],
         "type": "linear",
         "visible": false
        },
        "yaxis": {
         "anchor": "x",
         "autorange": true,
         "domain": [
          0.525,
          1
         ],
         "range": [
          -3.176217587218455,
          25.26472929096742
         ],
         "type": "linear"
        },
        "yaxis2": {
         "anchor": "x2",
         "autorange": true,
         "domain": [
          0,
          0.475
         ],
         "range": [
          -0.5,
          8.5
         ],
         "type": "linear"
        }
       }
      },
      "text/html": [
       "<div>                            <div id=\"db087ab6-0606-4d04-8c38-018ba9941c5c\" class=\"plotly-graph-div\" style=\"height:500px; width:1000px;\"></div>            <script type=\"text/javascript\">                require([\"plotly\"], function(Plotly) {                    window.PLOTLYENV=window.PLOTLYENV || {};                                    if (document.getElementById(\"db087ab6-0606-4d04-8c38-018ba9941c5c\")) {                    Plotly.newPlot(                        \"db087ab6-0606-4d04-8c38-018ba9941c5c\",                        [{\"hovertemplate\":\"x=%{x}<br>y=%{y}<extra></extra>\",\"legendgroup\":\"\",\"line\":{\"color\":\"black\",\"dash\":\"solid\",\"width\":0.5},\"marker\":{\"size\":15,\"symbol\":\"circle\"},\"mode\":\"lines\",\"name\":\"\",\"orientation\":\"v\",\"showlegend\":false,\"x\":[1.0,1.0,2.0,2.0,null,5.0,5.0,6.0,6.0,null,7.0,7.0,8.0,8.0,null,5.5,5.5,7.5,7.5,null,4.0,4.0,6.5,6.5,null,3.0,3.0,5.25,5.25,null,1.5,1.5,4.125,4.125,null,0.0,0.0,2.8125,2.8125,null],\"xaxis\":\"x\",\"y\":[0.0,4.330052441120909,4.330052441120909,0.0,null,0.0,1.1657414609793002,1.1657414609793002,0.0,null,0.0,3.5194061234160605,3.5194061234160605,0.0,null,1.1657414609793002,4.288674593534787,4.288674593534787,3.5194061234160605,null,0.0,5.436240894112726,5.436240894112726,4.288674593534787,null,0.0,6.254051703166703,6.254051703166703,5.436240894112726,null,4.330052441120909,12.333154578498677,12.333154578498677,6.254051703166703,null,0.0,23.842681947058125,23.842681947058125,12.333154578498677,null],\"yaxis\":\"y\",\"type\":\"scatter\"},{\"customdata\":[[7,17.11,16.51,0.2573,4.063,null],[5,-5.06,12.41,0.261,4.109,null],[6,-5.65,13.12,0.2596,4.109,null],[9,-0.38,14.5,0.2328,3.467,null],[1,8.08,13.11,0.4328,4.223,null],[3,-2.36,12.08,0.2709,3.559,null],[4,-5.5,12.44,0.2656,3.547,null],[2,2.01,12.58,0.3798,4.008,null],[8,-4.62,13.67,0.248,3.731,null]],\"hovertemplate\":\"<b>%{hovertext}</b><br><br>x=%{x}<br>y=%{y}<br>Mode=%{customdata[0]}<br>Affinity=%{customdata[1]}<br>Intramol=%{customdata[2]}<br>CNN_score=%{marker.color}<br>CNN_affinity=%{customdata[4]}<br>Distance=%{customdata[5]}<extra></extra>\",\"hovertext\":[7.0,5.0,6.0,9.0,1.0,3.0,4.0,2.0,8.0],\"legendgroup\":\"\",\"line\":{\"color\":\"black\",\"width\":0.5},\"marker\":{\"color\":[0.2573,0.261,0.2596,0.2328,0.4328,0.2709,0.2656,0.3798,0.248],\"coloraxis\":\"coloraxis\",\"size\":15,\"symbol\":\"circle\"},\"mode\":\"markers\",\"name\":\"\",\"orientation\":\"v\",\"showlegend\":false,\"x\":[0,1,2,3,4,5,6,7,8],\"xaxis\":\"x\",\"y\":[0,0,0,0,0,0,0,0,0],\"yaxis\":\"y\",\"type\":\"scatter\"},{\"colorscale\":[[0.0,\"#440154\"],[0.1111111111111111,\"#482878\"],[0.2222222222222222,\"#3e4989\"],[0.3333333333333333,\"#31688e\"],[0.4444444444444444,\"#26828e\"],[0.5555555555555556,\"#1f9e89\"],[0.6666666666666666,\"#35b779\"],[0.7777777777777778,\"#6ece58\"],[0.8888888888888888,\"#b5de2b\"],[1.0,\"#fde725\"]],\"showscale\":false,\"x\":[0,1,2,3,4,5,6,7,8],\"y\":[0,1,2,3,4,5,6,7,8],\"z\":[[0.0,23.842681947058125,22.734803505583685,23.658365583076527,18.643900700586595,19.833878688903837,21.351383417318264,18.970412545694575,20.4467967448449],[23.842681947058125,0.0,4.330052441120909,9.439145856485109,12.333154578498677,9.835930437504556,9.311383800795362,7.474072058982114,5.239074332087956],[22.734803505583685,4.330052441120909,0.0,8.63730029966926,9.315366697338455,6.654480341498096,6.320949231523695,6.89501533439473,6.1923850009507655],[23.658365583076527,9.439145856485109,8.63730029966926,0.0,6.254051703166703,4.484768049135368,4.973991317342643,5.141597602797297,5.474468041128136],[18.643900700586595,12.333154578498677,9.315366697338455,6.254051703166703,0.0,3.2080786605548957,4.5278253855711155,4.029334426810081,5.436240894112726],[19.833878688903837,9.835930437504556,6.654480341498096,4.484768049135368,3.2080786605548957,0.0,1.1657414609793002,4.275445190731296,4.288674593534787],[21.351383417318264,9.311383800795362,6.320949231523695,4.973991317342643,4.5278253855711155,1.1657414609793002,0.0,3.5367007550497163,4.22931393668051],[18.970412545694575,7.474072058982114,6.89501533439473,5.141597602797297,4.029334426810081,4.275445190731296,3.5367007550497163,0.0,3.5194061234160605],[20.4467967448449,5.239074332087956,6.1923850009507655,5.474468041128136,5.436240894112726,4.288674593534787,4.229313936680511,3.5194061234160605,0.0]],\"type\":\"heatmap\",\"xaxis\":\"x2\",\"yaxis\":\"y2\"}],                        {\"template\":{\"data\":{\"histogram2dcontour\":[{\"type\":\"histogram2dcontour\",\"colorbar\":{\"outlinewidth\":0,\"ticks\":\"\"},\"colorscale\":[[0.0,\"#0d0887\"],[0.1111111111111111,\"#46039f\"],[0.2222222222222222,\"#7201a8\"],[0.3333333333333333,\"#9c179e\"],[0.4444444444444444,\"#bd3786\"],[0.5555555555555556,\"#d8576b\"],[0.6666666666666666,\"#ed7953\"],[0.7777777777777778,\"#fb9f3a\"],[0.8888888888888888,\"#fdca26\"],[1.0,\"#f0f921\"]]}],\"choropleth\":[{\"type\":\"choropleth\",\"colorbar\":{\"outlinewidth\":0,\"ticks\":\"\"}}],\"histogram2d\":[{\"type\":\"histogram2d\",\"colorbar\":{\"outlinewidth\":0,\"ticks\":\"\"},\"colorscale\":[[0.0,\"#0d0887\"],[0.1111111111111111,\"#46039f\"],[0.2222222222222222,\"#7201a8\"],[0.3333333333333333,\"#9c179e\"],[0.4444444444444444,\"#bd3786\"],[0.5555555555555556,\"#d8576b\"],[0.6666666666666666,\"#ed7953\"],[0.7777777777777778,\"#fb9f3a\"],[0.8888888888888888,\"#fdca26\"],[1.0,\"#f0f921\"]]}],\"heatmap\":[{\"type\":\"heatmap\",\"colorbar\":{\"outlinewidth\":0,\"ticks\":\"\"},\"colorscale\":[[0.0,\"#0d0887\"],[0.1111111111111111,\"#46039f\"],[0.2222222222222222,\"#7201a8\"],[0.3333333333333333,\"#9c179e\"],[0.4444444444444444,\"#bd3786\"],[0.5555555555555556,\"#d8576b\"],[0.6666666666666666,\"#ed7953\"],[0.7777777777777778,\"#fb9f3a\"],[0.8888888888888888,\"#fdca26\"],[1.0,\"#f0f921\"]]}],\"heatmapgl\":[{\"type\":\"heatmapgl\",\"colorbar\":{\"outlinewidth\":0,\"ticks\":\"\"},\"colorscale\":[[0.0,\"#0d0887\"],[0.1111111111111111,\"#46039f\"],[0.2222222222222222,\"#7201a8\"],[0.3333333333333333,\"#9c179e\"],[0.4444444444444444,\"#bd3786\"],[0.5555555555555556,\"#d8576b\"],[0.6666666666666666,\"#ed7953\"],[0.7777777777777778,\"#fb9f3a\"],[0.8888888888888888,\"#fdca26\"],[1.0,\"#f0f921\"]]}],\"contourcarpet\":[{\"type\":\"contourcarpet\",\"colorbar\":{\"outlinewidth\":0,\"ticks\":\"\"}}],\"contour\":[{\"type\":\"contour\",\"colorbar\":{\"outlinewidth\":0,\"ticks\":\"\"},\"colorscale\":[[0.0,\"#0d0887\"],[0.1111111111111111,\"#46039f\"],[0.2222222222222222,\"#7201a8\"],[0.3333333333333333,\"#9c179e\"],[0.4444444444444444,\"#bd3786\"],[0.5555555555555556,\"#d8576b\"],[0.6666666666666666,\"#ed7953\"],[0.7777777777777778,\"#fb9f3a\"],[0.8888888888888888,\"#fdca26\"],[1.0,\"#f0f921\"]]}],\"surface\":[{\"type\":\"surface\",\"colorbar\":{\"outlinewidth\":0,\"ticks\":\"\"},\"colorscale\":[[0.0,\"#0d0887\"],[0.1111111111111111,\"#46039f\"],[0.2222222222222222,\"#7201a8\"],[0.3333333333333333,\"#9c179e\"],[0.4444444444444444,\"#bd3786\"],[0.5555555555555556,\"#d8576b\"],[0.6666666666666666,\"#ed7953\"],[0.7777777777777778,\"#fb9f3a\"],[0.8888888888888888,\"#fdca26\"],[1.0,\"#f0f921\"]]}],\"mesh3d\":[{\"type\":\"mesh3d\",\"colorbar\":{\"outlinewidth\":0,\"ticks\":\"\"}}],\"scatter\":[{\"fillpattern\":{\"fillmode\":\"overlay\",\"size\":10,\"solidity\":0.2},\"type\":\"scatter\"}],\"parcoords\":[{\"type\":\"parcoords\",\"line\":{\"colorbar\":{\"outlinewidth\":0,\"ticks\":\"\"}}}],\"scatterpolargl\":[{\"type\":\"scatterpolargl\",\"marker\":{\"colorbar\":{\"outlinewidth\":0,\"ticks\":\"\"}}}],\"bar\":[{\"error_x\":{\"color\":\"#2a3f5f\"},\"error_y\":{\"color\":\"#2a3f5f\"},\"marker\":{\"line\":{\"color\":\"#E5ECF6\",\"width\":0.5},\"pattern\":{\"fillmode\":\"overlay\",\"size\":10,\"solidity\":0.2}},\"type\":\"bar\"}],\"scattergeo\":[{\"type\":\"scattergeo\",\"marker\":{\"colorbar\":{\"outlinewidth\":0,\"ticks\":\"\"}}}],\"scatterpolar\":[{\"type\":\"scatterpolar\",\"marker\":{\"colorbar\":{\"outlinewidth\":0,\"ticks\":\"\"}}}],\"histogram\":[{\"marker\":{\"pattern\":{\"fillmode\":\"overlay\",\"size\":10,\"solidity\":0.2}},\"type\":\"histogram\"}],\"scattergl\":[{\"type\":\"scattergl\",\"marker\":{\"colorbar\":{\"outlinewidth\":0,\"ticks\":\"\"}}}],\"scatter3d\":[{\"type\":\"scatter3d\",\"line\":{\"colorbar\":{\"outlinewidth\":0,\"ticks\":\"\"}},\"marker\":{\"colorbar\":{\"outlinewidth\":0,\"ticks\":\"\"}}}],\"scattermapbox\":[{\"type\":\"scattermapbox\",\"marker\":{\"colorbar\":{\"outlinewidth\":0,\"ticks\":\"\"}}}],\"scatterternary\":[{\"type\":\"scatterternary\",\"marker\":{\"colorbar\":{\"outlinewidth\":0,\"ticks\":\"\"}}}],\"scattercarpet\":[{\"type\":\"scattercarpet\",\"marker\":{\"colorbar\":{\"outlinewidth\":0,\"ticks\":\"\"}}}],\"carpet\":[{\"aaxis\":{\"endlinecolor\":\"#2a3f5f\",\"gridcolor\":\"white\",\"linecolor\":\"white\",\"minorgridcolor\":\"white\",\"startlinecolor\":\"#2a3f5f\"},\"baxis\":{\"endlinecolor\":\"#2a3f5f\",\"gridcolor\":\"white\",\"linecolor\":\"white\",\"minorgridcolor\":\"white\",\"startlinecolor\":\"#2a3f5f\"},\"type\":\"carpet\"}],\"table\":[{\"cells\":{\"fill\":{\"color\":\"#EBF0F8\"},\"line\":{\"color\":\"white\"}},\"header\":{\"fill\":{\"color\":\"#C8D4E3\"},\"line\":{\"color\":\"white\"}},\"type\":\"table\"}],\"barpolar\":[{\"marker\":{\"line\":{\"color\":\"#E5ECF6\",\"width\":0.5},\"pattern\":{\"fillmode\":\"overlay\",\"size\":10,\"solidity\":0.2}},\"type\":\"barpolar\"}],\"pie\":[{\"automargin\":true,\"type\":\"pie\"}]},\"layout\":{\"autotypenumbers\":\"strict\",\"colorway\":[\"#636efa\",\"#EF553B\",\"#00cc96\",\"#ab63fa\",\"#FFA15A\",\"#19d3f3\",\"#FF6692\",\"#B6E880\",\"#FF97FF\",\"#FECB52\"],\"font\":{\"color\":\"#2a3f5f\"},\"hovermode\":\"closest\",\"hoverlabel\":{\"align\":\"left\"},\"paper_bgcolor\":\"white\",\"plot_bgcolor\":\"#E5ECF6\",\"polar\":{\"bgcolor\":\"#E5ECF6\",\"angularaxis\":{\"gridcolor\":\"white\",\"linecolor\":\"white\",\"ticks\":\"\"},\"radialaxis\":{\"gridcolor\":\"white\",\"linecolor\":\"white\",\"ticks\":\"\"}},\"ternary\":{\"bgcolor\":\"#E5ECF6\",\"aaxis\":{\"gridcolor\":\"white\",\"linecolor\":\"white\",\"ticks\":\"\"},\"baxis\":{\"gridcolor\":\"white\",\"linecolor\":\"white\",\"ticks\":\"\"},\"caxis\":{\"gridcolor\":\"white\",\"linecolor\":\"white\",\"ticks\":\"\"}},\"coloraxis\":{\"colorbar\":{\"outlinewidth\":0,\"ticks\":\"\"}},\"colorscale\":{\"sequential\":[[0.0,\"#0d0887\"],[0.1111111111111111,\"#46039f\"],[0.2222222222222222,\"#7201a8\"],[0.3333333333333333,\"#9c179e\"],[0.4444444444444444,\"#bd3786\"],[0.5555555555555556,\"#d8576b\"],[0.6666666666666666,\"#ed7953\"],[0.7777777777777778,\"#fb9f3a\"],[0.8888888888888888,\"#fdca26\"],[1.0,\"#f0f921\"]],\"sequentialminus\":[[0.0,\"#0d0887\"],[0.1111111111111111,\"#46039f\"],[0.2222222222222222,\"#7201a8\"],[0.3333333333333333,\"#9c179e\"],[0.4444444444444444,\"#bd3786\"],[0.5555555555555556,\"#d8576b\"],[0.6666666666666666,\"#ed7953\"],[0.7777777777777778,\"#fb9f3a\"],[0.8888888888888888,\"#fdca26\"],[1.0,\"#f0f921\"]],\"diverging\":[[0,\"#8e0152\"],[0.1,\"#c51b7d\"],[0.2,\"#de77ae\"],[0.3,\"#f1b6da\"],[0.4,\"#fde0ef\"],[0.5,\"#f7f7f7\"],[0.6,\"#e6f5d0\"],[0.7,\"#b8e186\"],[0.8,\"#7fbc41\"],[0.9,\"#4d9221\"],[1,\"#276419\"]]},\"xaxis\":{\"gridcolor\":\"white\",\"linecolor\":\"white\",\"ticks\":\"\",\"title\":{\"standoff\":15},\"zerolinecolor\":\"white\",\"automargin\":true,\"zerolinewidth\":2},\"yaxis\":{\"gridcolor\":\"white\",\"linecolor\":\"white\",\"ticks\":\"\",\"title\":{\"standoff\":15},\"zerolinecolor\":\"white\",\"automargin\":true,\"zerolinewidth\":2},\"scene\":{\"xaxis\":{\"backgroundcolor\":\"#E5ECF6\",\"gridcolor\":\"white\",\"linecolor\":\"white\",\"showbackground\":true,\"ticks\":\"\",\"zerolinecolor\":\"white\",\"gridwidth\":2},\"yaxis\":{\"backgroundcolor\":\"#E5ECF6\",\"gridcolor\":\"white\",\"linecolor\":\"white\",\"showbackground\":true,\"ticks\":\"\",\"zerolinecolor\":\"white\",\"gridwidth\":2},\"zaxis\":{\"backgroundcolor\":\"#E5ECF6\",\"gridcolor\":\"white\",\"linecolor\":\"white\",\"showbackground\":true,\"ticks\":\"\",\"zerolinecolor\":\"white\",\"gridwidth\":2}},\"shapedefaults\":{\"line\":{\"color\":\"#2a3f5f\"}},\"annotationdefaults\":{\"arrowcolor\":\"#2a3f5f\",\"arrowhead\":0,\"arrowwidth\":1},\"geo\":{\"bgcolor\":\"white\",\"landcolor\":\"#E5ECF6\",\"subunitcolor\":\"white\",\"showland\":true,\"showlakes\":true,\"lakecolor\":\"white\"},\"title\":{\"x\":0.05},\"mapbox\":{\"style\":\"light\"}}},\"xaxis\":{\"anchor\":\"y\",\"domain\":[0.0,1.0],\"matches\":\"x2\",\"showticklabels\":false,\"visible\":false},\"yaxis\":{\"anchor\":\"x\",\"domain\":[0.525,1.0]},\"xaxis2\":{\"anchor\":\"y2\",\"domain\":[0.0,1.0],\"visible\":false},\"yaxis2\":{\"anchor\":\"x2\",\"domain\":[0.0,0.475]},\"width\":1000,\"height\":500,\"hovermode\":\"closest\",\"plot_bgcolor\":\"white\"},                        {\"responsive\": true}                    ).then(function(){\n",
       "                            \n",
       "var gd = document.getElementById('db087ab6-0606-4d04-8c38-018ba9941c5c');\n",
       "var x = new MutationObserver(function (mutations, observer) {{\n",
       "        var display = window.getComputedStyle(gd).display;\n",
       "        if (!display || display === 'none') {{\n",
       "            console.log([gd, 'removed!']);\n",
       "            Plotly.purge(gd);\n",
       "            observer.disconnect();\n",
       "        }}\n",
       "}});\n",
       "\n",
       "// Listen for the removal of the full notebook cells\n",
       "var notebookContainer = gd.closest('#notebook-container');\n",
       "if (notebookContainer) {{\n",
       "    x.observe(notebookContainer, {childList: true});\n",
       "}}\n",
       "\n",
       "// Listen for the clearing of the current output cell\n",
       "var outputEl = gd.closest('.output');\n",
       "if (outputEl) {{\n",
       "    x.observe(outputEl, {childList: true});\n",
       "}}\n",
       "\n",
       "                        })                };                });            </script>        </div>"
      ]
     },
     "metadata": {},
     "output_type": "display_data"
    }
   ],
   "source": [
    "import numpy as np\n",
    "import pandas as pd\n",
    "from rdkit import Chem\n",
    "from rdkit.Chem import rdFMCS, AllChem\n",
    "from scipy.cluster.hierarchy import linkage\n",
    "import plotly.graph_objects as go\n",
    "import plotly.figure_factory as ff\n",
    "\n",
    "def load_poses(sdf_file):\n",
    "    \"\"\"Load poses from an SDF file and rename them.\"\"\"\n",
    "    poses = Chem.SDMolSupplier(sdf_file)\n",
    "    renamed_poses = []\n",
    "    for index, p in enumerate(poses):\n",
    "        if p is not None:\n",
    "            p.SetProp('_Name', str(index + 1))\n",
    "            renamed_poses.append(p)\n",
    "    return renamed_poses\n",
    "\n",
    "def calculate_rmsd_matrix(poses):\n",
    "    \"\"\"Calculate RMSD matrix for all pose pairs.\"\"\"\n",
    "    import math\n",
    "    size = len(poses)\n",
    "    rmsd_matrix = np.zeros((size, size))\n",
    "    \n",
    "    for i, mol in enumerate(poses):\n",
    "        for j, jmol in enumerate(poses):\n",
    "            # MCS identification between reference pose and target pose\n",
    "            r = rdFMCS.FindMCS([mol, jmol])\n",
    "            # Atom map for reference and target\n",
    "            a = mol.GetSubstructMatch(Chem.MolFromSmarts(r.smartsString))\n",
    "            b = jmol.GetSubstructMatch(Chem.MolFromSmarts(r.smartsString))\n",
    "            # Atom map generation\n",
    "            amap = list(zip(a, b))\n",
    "\n",
    "            # Calculate RMSD\n",
    "            # distance calculation per atom pair\n",
    "            distances=[]\n",
    "            for atomA, atomB in amap:\n",
    "                pos_A=mol.GetConformer().GetAtomPosition (atomA)\n",
    "                pos_B=jmol.GetConformer().GetAtomPosition (atomB)\n",
    "                coord_A=np.array((pos_A.x,pos_A.y,pos_A.z))\n",
    "                coord_B=np.array ((pos_B.x,pos_B.y,pos_B.z))\n",
    "                dist_numpy = np.linalg.norm(coord_A-coord_B)\n",
    "                distances.append(dist_numpy)\n",
    "    \n",
    "            # This is the RMSD formula from wikipedia\n",
    "            rmsd=math.sqrt(1/len(distances)*sum([i*i for i in distances]))\n",
    "    \n",
    "            #saving the rmsd values to a matrix and a table for clustering\n",
    "            rmsd_matrix[i ,j]=rmsd\n",
    "    \n",
    "    return rmsd_matrix\n",
    "\n",
    "def perform_clustering(rmsd_matrix):\n",
    "    \"\"\"Perform hierarchical clustering on the RMSD matrix.\"\"\"\n",
    "    return linkage(rmsd_matrix, method='complete')\n",
    "\n",
    "def plot_dendrogram(\n",
    "    dist,\n",
    "    linkage_method,\n",
    "    leaf_data,\n",
    "    width,\n",
    "    height,\n",
    "    title=None,\n",
    "    count_sort=True,\n",
    "    distance_sort=False,\n",
    "    line_width=0.5,\n",
    "    line_color='black',\n",
    "    marker_size=15,\n",
    "    leaf_color='CNN_score',\n",
    "    render_mode='svg',\n",
    "    leaf_y=0,\n",
    "    leaf_color_discrete_map=None,\n",
    "    leaf_category_orders=None,\n",
    "    template='simple_white',\n",
    "):\n",
    "\n",
    "    import plotly.express as px\n",
    "    import scipy.cluster.hierarchy as sch\n",
    "\n",
    "    # Hierarchical clustering.\n",
    "    Z = sch.linkage(dist, method=linkage_method)\n",
    "    # Compute the dendrogram but don't plot it.\n",
    "    dend = sch.dendrogram(\n",
    "        Z,\n",
    "        count_sort=count_sort,\n",
    "        distance_sort=distance_sort,\n",
    "        no_plot=True,\n",
    "    )\n",
    "\n",
    "    # Compile the line coordinates into a single dataframe.\n",
    "    icoord = dend[\"icoord\"]\n",
    "    dcoord = dend[\"dcoord\"]\n",
    "    line_segments_x = []\n",
    "    line_segments_y = []\n",
    "    for ik, dk in zip(icoord, dcoord):\n",
    "        # Adding None here breaks up the lines.\n",
    "        line_segments_x += ik + [None]\n",
    "        line_segments_y += dk + [None]\n",
    "    df_line_segments = pd.DataFrame({\"x\": line_segments_x, \"y\": line_segments_y})\n",
    "\n",
    "    # Convert X coordinates to haplotype indices (scipy multiplies coordinates by 10).\n",
    "    df_line_segments[\"x\"] = (df_line_segments[\"x\"] - 5) / 10\n",
    "\n",
    "    # Plot the lines.\n",
    "    fig = px.line(\n",
    "        df_line_segments,\n",
    "        x=\"x\",\n",
    "        y=\"y\",\n",
    "        render_mode=render_mode,\n",
    "        template=template,\n",
    "    )\n",
    "\n",
    "    # Reorder leaf data to align with dendrogram.\n",
    "    leaves = dend[\"leaves\"]\n",
    "    n_leaves = len(leaves)\n",
    "    leaf_data = leaf_data.iloc[leaves]\n",
    "\n",
    "    # Add scatter plot to draw the leaves.\n",
    "    fig.add_traces(\n",
    "        list(\n",
    "            px.scatter(\n",
    "                data_frame=leaf_data,\n",
    "                x=np.arange(n_leaves),\n",
    "                y=np.repeat(leaf_y, n_leaves),\n",
    "                color=leaf_color,\n",
    "                render_mode=render_mode,\n",
    "                hover_name='Mode',\n",
    "                hover_data=leaf_data.columns.to_list(),\n",
    "                template=template,\n",
    "                color_discrete_map=leaf_color_discrete_map,\n",
    "                category_orders=leaf_category_orders,\n",
    "            ).select_traces()\n",
    "        )\n",
    "    )\n",
    "\n",
    "    # Style the lines and markers.\n",
    "    line_props = dict(\n",
    "        width=line_width,\n",
    "        color=line_color,\n",
    "    )\n",
    "    marker_props = dict(\n",
    "        size=marker_size,\n",
    "    )\n",
    "    fig.update_traces(line=line_props, marker=marker_props)\n",
    "\n",
    "    # Style the figure.\n",
    "    fig.update_layout(\n",
    "        width=width,\n",
    "        height=height,\n",
    "        title=title,\n",
    "        autosize=True,\n",
    "        hovermode=\"closest\",\n",
    "        # I cannot get the xaxis title to appear below the plot, and when\n",
    "        # it's above the plot it often overlaps the title, so hiding it\n",
    "        # for now.\n",
    "        xaxis_title=None,\n",
    "        yaxis_title=None,\n",
    "        showlegend=True,\n",
    "    )\n",
    "\n",
    "    # Style axes.\n",
    "    fig.update_xaxes(\n",
    "        mirror=False,\n",
    "        showgrid=False,\n",
    "        showline=False,\n",
    "        showticklabels=False,\n",
    "        ticks=\"\",\n",
    "        # range=(-2, n_leaves + 2),\n",
    "    )\n",
    "    fig.update_yaxes(\n",
    "        mirror=False,\n",
    "        showgrid=False,\n",
    "        showline=False,\n",
    "        showticklabels=True,\n",
    "        ticks=\"outside\",\n",
    "        # range=(leaf_y - y_axis_buffer, np.max(dcoord) + y_axis_buffer),\n",
    "    )\n",
    "\n",
    "    return fig, leaf_data\n",
    "\n",
    "def plot_heatmap(df_rmsd, leaf_data):\n",
    "    \"\"\"Create an interactive heatmap using Plotly.\"\"\"\n",
    "    pose_order = leaf_data['Mode'].to_numpy() - 1\n",
    "    \n",
    "    fig = go.Figure(data=go.Heatmap(\n",
    "        z=df_rmsd,\n",
    "        x=np.arange(len(pose_order)),\n",
    "        y=np.arange(len(pose_order)),\n",
    "        colorscale='Viridis',\n",
    "        showscale=False\n",
    "    ))\n",
    "\n",
    "    # fig.update_layout(xaxis={'categoryarray': pose_order})\n",
    "\n",
    "    return fig\n",
    "\n",
    "def _concat_subplots(\n",
    "        figures,\n",
    "        width,\n",
    "        height,\n",
    "    ):\n",
    "        from plotly.subplots import make_subplots  # type: ignore\n",
    "        # make subplots\n",
    "        fig = make_subplots(\n",
    "            rows=2,\n",
    "            cols=1,\n",
    "            vertical_spacing=0.05,\n",
    "            shared_xaxes=True\n",
    "        )\n",
    "\n",
    "        for i, figure in enumerate(figures):\n",
    "            if isinstance(figure, go.Figure):\n",
    "                # This is a figure, access the traces within it.\n",
    "                for trace in range(len(figure[\"data\"])):\n",
    "                    fig.append_trace(figure[\"data\"][trace], row=i+1, col=1)\n",
    "            else:\n",
    "                # Assume this is a trace, add directly.\n",
    "                fig.append_trace(figure, row=i+1, col=1)\n",
    "\n",
    "        fig.update_xaxes(visible=False)\n",
    "        fig.update_layout(\n",
    "            width=width,\n",
    "            height=height,\n",
    "            hovermode=\"closest\",\n",
    "            plot_bgcolor=\"white\",\n",
    "        )\n",
    "\n",
    "        return fig\n",
    "\n",
    "def analyse_poses(receptor_path, ligand_path, sdf_path, docking_log_path, residue_number, atom_name, width=1000, height=500):\n",
    "    \"\"\"Analyze poses and create visualizations.\"\"\"\n",
    "    # Load poses\n",
    "    poses = load_poses(sdf_path)\n",
    "    results_df = load_docking_results(receptor_path, sdf_path, docking_log_path, residue_number, atom_name)\n",
    "    \n",
    "    # Calculate RMSD matrix\n",
    "    rmsd_matrix = calculate_rmsd_matrix(poses)\n",
    "\n",
    "    from scipy.spatial.distance import squareform\n",
    "    condensed_rmsd_matrix = squareform(rmsd_matrix, checks=False)\n",
    "    \n",
    "    # Create visualizations\n",
    "    dendrogram, leaf_data = plot_dendrogram(dist=condensed_rmsd_matrix, linkage_method='complete', leaf_data=results_df, width=500, height=500)\n",
    "    \n",
    "    pose_order = leaf_data['Mode'].to_numpy() - 1\n",
    "    df_rmsd = pd.DataFrame(rmsd_matrix).iloc[pose_order, pose_order]\n",
    "    heatmap = plot_heatmap(df_rmsd, leaf_data)\n",
    "\n",
    "    fig = _concat_subplots(figures=[dendrogram, heatmap], width=width, height=height)\n",
    "    \n",
    "    return fig, leaf_data\n",
    "\n",
    "gene_id = 'AGAP006227'\n",
    "ligand = 'pirimiphos-methyl'\n",
    "receptor_path=f\"../receptors/{gene_id}.pdb\"\n",
    "ligand_path = f\"../ligands/{ligand}.pdbqt\"\n",
    "sdf_path = f\"../docking/{gene_id}_{ligand}.sdf\"\n",
    "docking_log_path = f\"../docking/{gene_id}_{ligand}.log\"\n",
    "residue_number= 192\n",
    "atom_name=\"OG\"\n",
    "\n",
    "# Example usage\n",
    "fig, df_docking = analyse_poses(receptor_path=receptor_path,\n",
    "                    ligand_path=ligand_path, \n",
    "                    sdf_path=sdf_path, \n",
    "                    docking_log_path=docking_log_path, \n",
    "                    residue_number=residue_number,\n",
    "                    atom_name=atom_name\n",
    "                   )\n",
    "fig.show()"
   ]
  },
  {
   "cell_type": "code",
   "execution_count": 160,
   "id": "54f4b0fc-0ab7-41b9-b129-8b07f1cb72cf",
   "metadata": {},
   "outputs": [
    {
     "data": {
      "text/html": [
       "<div>\n",
       "<style scoped>\n",
       "    .dataframe tbody tr th:only-of-type {\n",
       "        vertical-align: middle;\n",
       "    }\n",
       "\n",
       "    .dataframe tbody tr th {\n",
       "        vertical-align: top;\n",
       "    }\n",
       "\n",
       "    .dataframe thead th {\n",
       "        text-align: right;\n",
       "    }\n",
       "</style>\n",
       "<table border=\"1\" class=\"dataframe\">\n",
       "  <thead>\n",
       "    <tr style=\"text-align: right;\">\n",
       "      <th></th>\n",
       "      <th>Mode</th>\n",
       "      <th>Affinity</th>\n",
       "      <th>Intramol</th>\n",
       "      <th>CNN_score</th>\n",
       "      <th>CNN_affinity</th>\n",
       "      <th>Distance</th>\n",
       "    </tr>\n",
       "  </thead>\n",
       "  <tbody>\n",
       "    <tr>\n",
       "      <th>6</th>\n",
       "      <td>7</td>\n",
       "      <td>17.11</td>\n",
       "      <td>16.51</td>\n",
       "      <td>0.2573</td>\n",
       "      <td>4.063</td>\n",
       "      <td>None</td>\n",
       "    </tr>\n",
       "    <tr>\n",
       "      <th>4</th>\n",
       "      <td>5</td>\n",
       "      <td>-5.06</td>\n",
       "      <td>12.41</td>\n",
       "      <td>0.2610</td>\n",
       "      <td>4.109</td>\n",
       "      <td>None</td>\n",
       "    </tr>\n",
       "    <tr>\n",
       "      <th>5</th>\n",
       "      <td>6</td>\n",
       "      <td>-5.65</td>\n",
       "      <td>13.12</td>\n",
       "      <td>0.2596</td>\n",
       "      <td>4.109</td>\n",
       "      <td>None</td>\n",
       "    </tr>\n",
       "    <tr>\n",
       "      <th>8</th>\n",
       "      <td>9</td>\n",
       "      <td>-0.38</td>\n",
       "      <td>14.50</td>\n",
       "      <td>0.2328</td>\n",
       "      <td>3.467</td>\n",
       "      <td>None</td>\n",
       "    </tr>\n",
       "    <tr>\n",
       "      <th>0</th>\n",
       "      <td>1</td>\n",
       "      <td>8.08</td>\n",
       "      <td>13.11</td>\n",
       "      <td>0.4328</td>\n",
       "      <td>4.223</td>\n",
       "      <td>None</td>\n",
       "    </tr>\n",
       "    <tr>\n",
       "      <th>2</th>\n",
       "      <td>3</td>\n",
       "      <td>-2.36</td>\n",
       "      <td>12.08</td>\n",
       "      <td>0.2709</td>\n",
       "      <td>3.559</td>\n",
       "      <td>None</td>\n",
       "    </tr>\n",
       "    <tr>\n",
       "      <th>3</th>\n",
       "      <td>4</td>\n",
       "      <td>-5.50</td>\n",
       "      <td>12.44</td>\n",
       "      <td>0.2656</td>\n",
       "      <td>3.547</td>\n",
       "      <td>None</td>\n",
       "    </tr>\n",
       "    <tr>\n",
       "      <th>1</th>\n",
       "      <td>2</td>\n",
       "      <td>2.01</td>\n",
       "      <td>12.58</td>\n",
       "      <td>0.3798</td>\n",
       "      <td>4.008</td>\n",
       "      <td>None</td>\n",
       "    </tr>\n",
       "    <tr>\n",
       "      <th>7</th>\n",
       "      <td>8</td>\n",
       "      <td>-4.62</td>\n",
       "      <td>13.67</td>\n",
       "      <td>0.2480</td>\n",
       "      <td>3.731</td>\n",
       "      <td>None</td>\n",
       "    </tr>\n",
       "  </tbody>\n",
       "</table>\n",
       "</div>"
      ],
      "text/plain": [
       "   Mode  Affinity  Intramol  CNN_score  CNN_affinity Distance\n",
       "6     7     17.11     16.51     0.2573         4.063     None\n",
       "4     5     -5.06     12.41     0.2610         4.109     None\n",
       "5     6     -5.65     13.12     0.2596         4.109     None\n",
       "8     9     -0.38     14.50     0.2328         3.467     None\n",
       "0     1      8.08     13.11     0.4328         4.223     None\n",
       "2     3     -2.36     12.08     0.2709         3.559     None\n",
       "3     4     -5.50     12.44     0.2656         3.547     None\n",
       "1     2      2.01     12.58     0.3798         4.008     None\n",
       "7     8     -4.62     13.67     0.2480         3.731     None"
      ]
     },
     "execution_count": 160,
     "metadata": {},
     "output_type": "execute_result"
    }
   ],
   "source": [
    "df_docking"
   ]
  },
  {
   "cell_type": "code",
   "execution_count": null,
   "id": "ce727e31-e17a-4ff2-bca5-6bf819d244f5",
   "metadata": {},
   "outputs": [],
   "source": []
  },
  {
   "cell_type": "code",
   "execution_count": null,
   "id": "2f3a67fb-6556-4ee4-8a83-218b46f26a73",
   "metadata": {},
   "outputs": [],
   "source": []
  },
  {
   "cell_type": "code",
   "execution_count": null,
   "id": "b513a936-5b65-45b2-aaf7-bbd846d4193e",
   "metadata": {},
   "outputs": [],
   "source": []
  },
  {
   "cell_type": "code",
   "execution_count": 123,
   "id": "ae18abc1-dc24-4762-86a9-61ddcbab00a8",
   "metadata": {},
   "outputs": [
    {
     "ename": "TypeError",
     "evalue": "unsupported format string passed to NoneType.__format__",
     "output_type": "error",
     "traceback": [
      "\u001b[0;31m---------------------------------------------------------------------------\u001b[0m",
      "\u001b[0;31mTypeError\u001b[0m                                 Traceback (most recent call last)",
      "Cell \u001b[0;32mIn[123], line 14\u001b[0m\n\u001b[1;32m     11\u001b[0m distances \u001b[38;5;241m=\u001b[39m calculate_distances(protein_file, ligand_file, \u001b[38;5;241m192\u001b[39m, \u001b[38;5;124m\"\u001b[39m\u001b[38;5;124mOG\u001b[39m\u001b[38;5;124m\"\u001b[39m)  \u001b[38;5;66;03m# 192 is the residue number, \"OG\" is the atom name for Serine's hydroxyl oxygen\u001b[39;00m\n\u001b[1;32m     13\u001b[0m \u001b[38;5;28;01mfor\u001b[39;00m i, distance \u001b[38;5;129;01min\u001b[39;00m \u001b[38;5;28menumerate\u001b[39m(distances, \u001b[38;5;241m1\u001b[39m):\n\u001b[0;32m---> 14\u001b[0m     \u001b[38;5;28mprint\u001b[39m(\u001b[38;5;124mf\u001b[39m\u001b[38;5;124m\"\u001b[39m\u001b[38;5;124mConformation \u001b[39m\u001b[38;5;132;01m{\u001b[39;00mi\u001b[38;5;132;01m}\u001b[39;00m\u001b[38;5;124m: Distance = \u001b[39m\u001b[38;5;132;01m{\u001b[39;00mdistance\u001b[38;5;132;01m:\u001b[39;00m\u001b[38;5;124m.2f\u001b[39m\u001b[38;5;132;01m}\u001b[39;00m\u001b[38;5;124m Å\u001b[39m\u001b[38;5;124m\"\u001b[39m)\n\u001b[1;32m     16\u001b[0m \u001b[38;5;66;03m# Calculate and print statistics\u001b[39;00m\n\u001b[1;32m     17\u001b[0m \u001b[38;5;28;01mif\u001b[39;00m distances:\n",
      "\u001b[0;31mTypeError\u001b[0m: unsupported format string passed to NoneType.__format__"
     ]
    }
   ],
   "source": [
    "# Example usage\n",
    "gene_id = 'AGAP006227'\n",
    "ligand = 'pirimiphos-methyl'\n",
    "\n",
    "protein_file = f\"../receptors/{gene_id}.pdb\"\n",
    "ligand_file = f\"../docking/{gene_id}_{ligand}.sdf\"\n",
    "gnina_log_file = f\"../docking/{gene_id}_{ligand}.log\"\n",
    "residue_number = 192\n",
    "atom_name = \"OG\"\n",
    "\n",
    "distances = calculate_distances(protein_file, ligand_file, 192, \"OG\")  # 192 is the residue number, \"OG\" is the atom name for Serine's hydroxyl oxygen\n",
    "\n",
    "for i, distance in enumerate(distances, 1):\n",
    "    print(f\"Conformation {i}: Distance = {distance:.2f} Å\")\n",
    "\n",
    "# Calculate and print statistics\n",
    "if distances:\n",
    "    print(f\"\\nMinimum distance: {min(distances):.2f} Å\")\n",
    "    print(f\"Maximum distance: {max(distances):.2f} Å\")\n",
    "    print(f\"Average distance: {sum(distances) / len(distances):.2f} Å\")\n",
    "else:\n",
    "    print(\"No valid conformations found.\")"
   ]
  },
  {
   "cell_type": "code",
   "execution_count": 56,
   "id": "e61ad4a4-6129-4cfa-92d6-9b00bebe0326",
   "metadata": {},
   "outputs": [
    {
     "data": {
      "text/html": [
       "<div>\n",
       "<style scoped>\n",
       "    .dataframe tbody tr th:only-of-type {\n",
       "        vertical-align: middle;\n",
       "    }\n",
       "\n",
       "    .dataframe tbody tr th {\n",
       "        vertical-align: top;\n",
       "    }\n",
       "\n",
       "    .dataframe thead th {\n",
       "        text-align: right;\n",
       "    }\n",
       "</style>\n",
       "<table border=\"1\" class=\"dataframe\">\n",
       "  <thead>\n",
       "    <tr style=\"text-align: right;\">\n",
       "      <th></th>\n",
       "      <th>Mode</th>\n",
       "      <th>Affinity</th>\n",
       "      <th>Intramol</th>\n",
       "      <th>CNN_score</th>\n",
       "      <th>CNN_affinity</th>\n",
       "      <th>Distance</th>\n",
       "    </tr>\n",
       "  </thead>\n",
       "  <tbody>\n",
       "    <tr>\n",
       "      <th>0</th>\n",
       "      <td>1</td>\n",
       "      <td>-7.49</td>\n",
       "      <td>21.70</td>\n",
       "      <td>0.1680</td>\n",
       "      <td>5.189</td>\n",
       "      <td>5.124323</td>\n",
       "    </tr>\n",
       "    <tr>\n",
       "      <th>1</th>\n",
       "      <td>2</td>\n",
       "      <td>-7.31</td>\n",
       "      <td>25.07</td>\n",
       "      <td>0.1635</td>\n",
       "      <td>5.176</td>\n",
       "      <td>5.606119</td>\n",
       "    </tr>\n",
       "    <tr>\n",
       "      <th>2</th>\n",
       "      <td>3</td>\n",
       "      <td>-7.49</td>\n",
       "      <td>21.92</td>\n",
       "      <td>0.1391</td>\n",
       "      <td>4.991</td>\n",
       "      <td>6.821620</td>\n",
       "    </tr>\n",
       "    <tr>\n",
       "      <th>3</th>\n",
       "      <td>4</td>\n",
       "      <td>-8.61</td>\n",
       "      <td>22.43</td>\n",
       "      <td>0.1356</td>\n",
       "      <td>5.620</td>\n",
       "      <td>5.820997</td>\n",
       "    </tr>\n",
       "    <tr>\n",
       "      <th>4</th>\n",
       "      <td>5</td>\n",
       "      <td>-8.60</td>\n",
       "      <td>21.60</td>\n",
       "      <td>0.1208</td>\n",
       "      <td>4.822</td>\n",
       "      <td>5.931378</td>\n",
       "    </tr>\n",
       "    <tr>\n",
       "      <th>5</th>\n",
       "      <td>6</td>\n",
       "      <td>-6.89</td>\n",
       "      <td>22.28</td>\n",
       "      <td>0.1179</td>\n",
       "      <td>5.043</td>\n",
       "      <td>5.583759</td>\n",
       "    </tr>\n",
       "    <tr>\n",
       "      <th>6</th>\n",
       "      <td>7</td>\n",
       "      <td>-7.47</td>\n",
       "      <td>21.76</td>\n",
       "      <td>0.1127</td>\n",
       "      <td>5.192</td>\n",
       "      <td>3.907323</td>\n",
       "    </tr>\n",
       "    <tr>\n",
       "      <th>7</th>\n",
       "      <td>8</td>\n",
       "      <td>-4.30</td>\n",
       "      <td>21.43</td>\n",
       "      <td>0.1118</td>\n",
       "      <td>5.278</td>\n",
       "      <td>6.325963</td>\n",
       "    </tr>\n",
       "    <tr>\n",
       "      <th>8</th>\n",
       "      <td>9</td>\n",
       "      <td>-6.63</td>\n",
       "      <td>21.38</td>\n",
       "      <td>0.1098</td>\n",
       "      <td>5.347</td>\n",
       "      <td>5.994756</td>\n",
       "    </tr>\n",
       "  </tbody>\n",
       "</table>\n",
       "</div>"
      ],
      "text/plain": [
       "   Mode  Affinity  Intramol  CNN_score  CNN_affinity  Distance\n",
       "0     1     -7.49     21.70     0.1680         5.189  5.124323\n",
       "1     2     -7.31     25.07     0.1635         5.176  5.606119\n",
       "2     3     -7.49     21.92     0.1391         4.991  6.821620\n",
       "3     4     -8.61     22.43     0.1356         5.620  5.820997\n",
       "4     5     -8.60     21.60     0.1208         4.822  5.931378\n",
       "5     6     -6.89     22.28     0.1179         5.043  5.583759\n",
       "6     7     -7.47     21.76     0.1127         5.192  3.907323\n",
       "7     8     -4.30     21.43     0.1118         5.278  6.325963\n",
       "8     9     -6.63     21.38     0.1098         5.347  5.994756"
      ]
     },
     "execution_count": 56,
     "metadata": {},
     "output_type": "execute_result"
    }
   ],
   "source": [
    "result_df = load_docking_results(protein_file, ligand_file, gnina_log_file, residue_number, atom_name)\n",
    "result_df"
   ]
  },
  {
   "cell_type": "code",
   "execution_count": null,
   "id": "d1e177fd-87ff-4448-a9ce-a2e89439e699",
   "metadata": {},
   "outputs": [],
   "source": []
  }
 ],
 "metadata": {
  "kernelspec": {
   "display_name": "Python 3 (ipykernel)",
   "language": "python",
   "name": "python3"
  },
  "language_info": {
   "codemirror_mode": {
    "name": "ipython",
    "version": 3
   },
   "file_extension": ".py",
   "mimetype": "text/x-python",
   "name": "python",
   "nbconvert_exporter": "python",
   "pygments_lexer": "ipython3",
   "version": "3.11.0"
  }
 },
 "nbformat": 4,
 "nbformat_minor": 5
}
